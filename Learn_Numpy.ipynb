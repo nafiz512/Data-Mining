{
  "nbformat": 4,
  "nbformat_minor": 0,
  "metadata": {
    "colab": {
      "provenance": [],
      "authorship_tag": "ABX9TyOkm/2mMSYpl3xNGoCkoGEr",
      "include_colab_link": true
    },
    "kernelspec": {
      "name": "python3",
      "display_name": "Python 3"
    },
    "language_info": {
      "name": "python"
    }
  },
  "cells": [
    {
      "cell_type": "markdown",
      "metadata": {
        "id": "view-in-github",
        "colab_type": "text"
      },
      "source": [
        "<a href=\"https://colab.research.google.com/github/nafiz512/Data-Mining/blob/main/Learn_Numpy.ipynb\" target=\"_parent\"><img src=\"https://colab.research.google.com/assets/colab-badge.svg\" alt=\"Open In Colab\"/></a>"
      ]
    },
    {
      "cell_type": "markdown",
      "source": [
        "importing numpy"
      ],
      "metadata": {
        "id": "-DVxIcAoNBix"
      }
    },
    {
      "cell_type": "code",
      "execution_count": 2,
      "metadata": {
        "colab": {
          "base_uri": "https://localhost:8080/"
        },
        "id": "Mv559SyDGuHv",
        "outputId": "c743c616-f335-4e5d-c52d-4ffd38cb14ec"
      },
      "outputs": [
        {
          "output_type": "stream",
          "name": "stdout",
          "text": [
            "2.0.2\n"
          ]
        }
      ],
      "source": [
        "import numpy as np\n",
        "print(np.__version__)"
      ]
    },
    {
      "cell_type": "markdown",
      "source": [
        "Creating numpy array"
      ],
      "metadata": {
        "id": "cd1RKUXQRHgz"
      }
    },
    {
      "cell_type": "code",
      "source": [
        "arr=np.array([1,2,3,4,5,6,7,8])\n",
        "print(type(arr))\n",
        "print(arr)"
      ],
      "metadata": {
        "colab": {
          "base_uri": "https://localhost:8080/"
        },
        "id": "B_4nzU1uRMdd",
        "outputId": "282d3bdf-11e2-4403-f645-54cbe059a356"
      },
      "execution_count": 5,
      "outputs": [
        {
          "output_type": "stream",
          "name": "stdout",
          "text": [
            "<class 'numpy.ndarray'>\n",
            "['1' '2' '3' '4' '5' '6' '7' '8' 'k']\n"
          ]
        }
      ]
    },
    {
      "cell_type": "markdown",
      "source": [
        "Dimensions in array 1D,2D,3D..."
      ],
      "metadata": {
        "id": "pbXh9bvdSUme"
      }
    },
    {
      "cell_type": "code",
      "source": [
        "a=np.array(42) #0D array\n",
        "b=np.array([1,2,3,4,5]) #1D array\n",
        "c=np.array([[1,2,3],[4,5,6]]) #2D array\n",
        "d=np.array([[[1,2,3],[4,5,6]],[[1,2,3],[4,5,6]]]) #3D array\n",
        "\n",
        "print(a)\n",
        "print(a.ndim)\n",
        "print(b)\n",
        "print(b.ndim)\n",
        "print(c)\n",
        "print(c.ndim)\n",
        "print(d)\n",
        "print(d.ndim)"
      ],
      "metadata": {
        "colab": {
          "base_uri": "https://localhost:8080/"
        },
        "id": "El9G6VNvST0d",
        "outputId": "3d72ff35-7e1c-4844-8896-e848e18cb43c"
      },
      "execution_count": 6,
      "outputs": [
        {
          "output_type": "stream",
          "name": "stdout",
          "text": [
            "42\n",
            "0\n",
            "[1 2 3 4 5]\n",
            "1\n",
            "[[1 2 3]\n",
            " [4 5 6]]\n",
            "2\n",
            "[[[1 2 3]\n",
            "  [4 5 6]]\n",
            "\n",
            " [[1 2 3]\n",
            "  [4 5 6]]]\n",
            "3\n"
          ]
        }
      ]
    },
    {
      "cell_type": "markdown",
      "source": [
        "Higher dimensional array"
      ],
      "metadata": {
        "id": "-ktgDFLCThUK"
      }
    },
    {
      "cell_type": "code",
      "source": [
        "arr=np.array([1,2,3,4],ndmin=5)\n",
        "print(arr)\n",
        "print(arr.ndim)\n",
        "print(\"shape of arr: \",arr.shape)"
      ],
      "metadata": {
        "colab": {
          "base_uri": "https://localhost:8080/"
        },
        "id": "TjTuD1iHTtTe",
        "outputId": "506abc24-7fc0-41c4-d218-7c1f20a278e8"
      },
      "execution_count": 40,
      "outputs": [
        {
          "output_type": "stream",
          "name": "stdout",
          "text": [
            "[[[[[1 2 3 4]]]]]\n",
            "5\n",
            "shape of arr:  (1, 1, 1, 1, 4)\n"
          ]
        }
      ]
    },
    {
      "cell_type": "markdown",
      "source": [
        "Access array element"
      ],
      "metadata": {
        "id": "Ga7ui6ILUR_J"
      }
    },
    {
      "cell_type": "code",
      "source": [
        "arr=np.array([1,2,3,4,5])\n",
        "print(arr[0])\n",
        "print(arr[1]+arr[4])"
      ],
      "metadata": {
        "colab": {
          "base_uri": "https://localhost:8080/"
        },
        "id": "0Yv7t5H2URuA",
        "outputId": "95600359-f9ba-4a69-cac3-438b32063a35"
      },
      "execution_count": 10,
      "outputs": [
        {
          "output_type": "stream",
          "name": "stdout",
          "text": [
            "1\n",
            "7\n"
          ]
        }
      ]
    },
    {
      "cell_type": "code",
      "source": [
        "arr=np.array([[1,2,3],[4,5,6],[7,8,9]])\n",
        "print(arr[0,1])\n",
        "print(arr[0,2]+arr[1,2])"
      ],
      "metadata": {
        "colab": {
          "base_uri": "https://localhost:8080/"
        },
        "id": "_Ch4v6vyUt7N",
        "outputId": "fe89bfc8-c49c-4219-d7d2-f605f5ef58c2"
      },
      "execution_count": 11,
      "outputs": [
        {
          "output_type": "stream",
          "name": "stdout",
          "text": [
            "2\n",
            "9\n"
          ]
        }
      ]
    },
    {
      "cell_type": "markdown",
      "source": [
        "Negative indexing"
      ],
      "metadata": {
        "id": "uFpnW6aLVNoe"
      }
    },
    {
      "cell_type": "code",
      "source": [
        "print(\"value of row 0 and column 3 : \",end='')\n",
        "print(arr[0][-2])"
      ],
      "metadata": {
        "colab": {
          "base_uri": "https://localhost:8080/"
        },
        "id": "kjA5gMRDVRTg",
        "outputId": "1a835405-fe69-4341-dcf8-a3c27b5201ad"
      },
      "execution_count": 14,
      "outputs": [
        {
          "output_type": "stream",
          "name": "stdout",
          "text": [
            "value of row 0 and column 3 : 2\n"
          ]
        }
      ]
    },
    {
      "cell_type": "markdown",
      "source": [
        "Slicing arrays    arr[start:end:steps]"
      ],
      "metadata": {
        "id": "kHdK5YJbV-vm"
      }
    },
    {
      "cell_type": "code",
      "source": [
        "arr=np.array([1,2,3,4,5,6,7])\n",
        "print(arr[0:5])\n",
        "print(arr[4:])\n",
        "print(arr[:4])\n",
        "print(arr[-3:-1])\n",
        "print(arr[1:5:2])\n",
        "print(arr[::2])"
      ],
      "metadata": {
        "colab": {
          "base_uri": "https://localhost:8080/"
        },
        "id": "Nj5Px9ppV6U2",
        "outputId": "d16b493a-98bc-4852-98d6-95ad66a85115"
      },
      "execution_count": 18,
      "outputs": [
        {
          "output_type": "stream",
          "name": "stdout",
          "text": [
            "[1 2 3 4 5]\n",
            "[5 6 7]\n",
            "[1 2 3 4]\n",
            "[5 6]\n",
            "[2 4]\n",
            "[1 3 5 7]\n"
          ]
        }
      ]
    },
    {
      "cell_type": "markdown",
      "source": [
        "Slicing 2D array"
      ],
      "metadata": {
        "id": "CmYC1oXNYspD"
      }
    },
    {
      "cell_type": "code",
      "source": [
        "arr=np.array([[1,2,3,4,5],[6,7,8,9,10]])\n",
        "print(\"actual array\")\n",
        "print(arr)\n",
        "print(\"2nd row col 2 to 4\")\n",
        "print(arr[1,1:4])\n",
        "print(\"1st row to 2 row with only col 3\")\n",
        "print(arr[0:2,2])\n",
        "print(\"1st row to 2 row with col 1 to 3\")\n",
        "print(arr[0:2,1:4])\n"
      ],
      "metadata": {
        "colab": {
          "base_uri": "https://localhost:8080/"
        },
        "id": "uXj5lOl9YzS4",
        "outputId": "579558b3-8049-4711-823f-decd795ee505"
      },
      "execution_count": 25,
      "outputs": [
        {
          "output_type": "stream",
          "name": "stdout",
          "text": [
            "actual array\n",
            "[[ 1  2  3  4  5]\n",
            " [ 6  7  8  9 10]]\n",
            "2nd row col 2 to 4\n",
            "[7 8 9]\n",
            "1st row to 2 row with only col 3\n",
            "[3 8]\n",
            "1st row to 2 row with col 1 to 3\n",
            "[[2 3 4]\n",
            " [7 8 9]]\n"
          ]
        }
      ]
    },
    {
      "cell_type": "markdown",
      "source": [
        "Checking the data type of an array"
      ],
      "metadata": {
        "id": "meYC57g9bI7A"
      }
    },
    {
      "cell_type": "code",
      "source": [
        "arr=np.array([1,2,3,4])\n",
        "print(type(arr))\n",
        "print(arr.dtype)"
      ],
      "metadata": {
        "colab": {
          "base_uri": "https://localhost:8080/"
        },
        "id": "tXiPb9l-bajA",
        "outputId": "240eff26-122a-4c63-e697-b75852d167c9"
      },
      "execution_count": 31,
      "outputs": [
        {
          "output_type": "stream",
          "name": "stdout",
          "text": [
            "<class 'numpy.ndarray'>\n",
            "int64\n"
          ]
        }
      ]
    },
    {
      "cell_type": "markdown",
      "source": [
        "Converting data type of numpy array"
      ],
      "metadata": {
        "id": "06I4NkhLc6m8"
      }
    },
    {
      "cell_type": "code",
      "source": [
        "arr=np.array([1.3,2.1,3.5])\n",
        "newarr=arr.astype('i')# 'i' for integer\n",
        "print(newarr)\n",
        "print(newarr.dtype)\n",
        "#converting to int64\n",
        "newarr=np.array(newarr,dtype='i8')\n",
        "print(newarr.dtype)"
      ],
      "metadata": {
        "colab": {
          "base_uri": "https://localhost:8080/"
        },
        "id": "2WD-qVzYdE8O",
        "outputId": "24e5cb27-dd2e-4e54-d1e8-5a8e08cc9e17"
      },
      "execution_count": 37,
      "outputs": [
        {
          "output_type": "stream",
          "name": "stdout",
          "text": [
            "[1 2 3]\n",
            "int32\n",
            "int64\n"
          ]
        }
      ]
    },
    {
      "cell_type": "markdown",
      "source": [
        "Shape of array"
      ],
      "metadata": {
        "id": "qB0m_bGbfVLT"
      }
    },
    {
      "cell_type": "code",
      "source": [
        "arr = np.array([[1, 2, 3, 4], [5, 6, 7, 8]])\n",
        "\n",
        "print(arr.shape)"
      ],
      "metadata": {
        "colab": {
          "base_uri": "https://localhost:8080/"
        },
        "id": "ARC2kmBkfZCx",
        "outputId": "598e47be-a756-407b-8a51-b63259b62e2d"
      },
      "execution_count": 45,
      "outputs": [
        {
          "output_type": "stream",
          "name": "stdout",
          "text": [
            "(2, 4)\n"
          ]
        }
      ]
    },
    {
      "cell_type": "markdown",
      "source": [
        "NumPy array reshaping"
      ],
      "metadata": {
        "id": "tpbwkG0ugpdX"
      }
    },
    {
      "cell_type": "code",
      "source": [
        "arr=np.array([i for i in range(12)])\n",
        "newarr=np.reshape(arr,(3,4))\n",
        "print(newarr)"
      ],
      "metadata": {
        "colab": {
          "base_uri": "https://localhost:8080/"
        },
        "id": "M8yFLwwwgw0p",
        "outputId": "0da62055-b7be-4469-d7b0-755e08e1ce9f"
      },
      "execution_count": 46,
      "outputs": [
        {
          "output_type": "stream",
          "name": "stdout",
          "text": [
            "[[ 0  1  2  3]\n",
            " [ 4  5  6  7]\n",
            " [ 8  9 10 11]]\n"
          ]
        }
      ]
    },
    {
      "cell_type": "code",
      "source": [
        "newarr=arr.reshape(2,3,2)\n",
        "print(newarr)"
      ],
      "metadata": {
        "colab": {
          "base_uri": "https://localhost:8080/"
        },
        "id": "pyH3TyRxjiCC",
        "outputId": "ba152e08-426e-496a-95b7-8902930646ac"
      },
      "execution_count": 47,
      "outputs": [
        {
          "output_type": "stream",
          "name": "stdout",
          "text": [
            "[[[ 0  1]\n",
            "  [ 2  3]\n",
            "  [ 4  5]]\n",
            "\n",
            " [[ 6  7]\n",
            "  [ 8  9]\n",
            "  [10 11]]]\n"
          ]
        }
      ]
    },
    {
      "cell_type": "markdown",
      "source": [
        "Resahpe Multi-dimension to 1D"
      ],
      "metadata": {
        "id": "GkD5xEBXkQGR"
      }
    },
    {
      "cell_type": "code",
      "source": [
        "arr=np.array([[[1,2,3],[4,5,6]],[[7,8,9],[10,11,12]]])\n",
        "newarr=arr.reshape(-1)\n",
        "print(newarr)"
      ],
      "metadata": {
        "colab": {
          "base_uri": "https://localhost:8080/"
        },
        "id": "j7CEbuvAkwHN",
        "outputId": "7ee1b104-19d2-4782-bc2c-595dbe8e7a1b"
      },
      "execution_count": 52,
      "outputs": [
        {
          "output_type": "stream",
          "name": "stdout",
          "text": [
            "[ 1  2  3  4  5  6  7  8  9 10 11 12]\n"
          ]
        }
      ]
    },
    {
      "cell_type": "markdown",
      "source": [
        "numpy.arange() in Python\n",
        "The arange([start,] stop[, step,][, dtype]) : Returns an array with evenly spaced elements as per the interval. The interval mentioned is half-opened i.e. [Start, Stop)"
      ],
      "metadata": {
        "id": "fO4UTiaKkwlr"
      }
    },
    {
      "cell_type": "code",
      "source": [
        "print(np.arange(4).reshape(2,2),'\\n')\n",
        "print(np.arange(4,10),'\\n')\n",
        "print(np.arange(4,10,2))"
      ],
      "metadata": {
        "colab": {
          "base_uri": "https://localhost:8080/"
        },
        "id": "m_zEiPEFlUba",
        "outputId": "733edd08-1f9d-4e30-f7b0-623c0a532a4f"
      },
      "execution_count": 58,
      "outputs": [
        {
          "output_type": "stream",
          "name": "stdout",
          "text": [
            "[[0 1]\n",
            " [2 3]] \n",
            "\n",
            "[4 5 6 7 8 9] \n",
            "\n",
            "[4 6 8]\n"
          ]
        }
      ]
    }
  ]
}
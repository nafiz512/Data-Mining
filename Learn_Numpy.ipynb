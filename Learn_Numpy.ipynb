{
  "nbformat": 4,
  "nbformat_minor": 0,
  "metadata": {
    "colab": {
      "provenance": [],
      "authorship_tag": "ABX9TyMA88l1ua/ox3/1NBO1dr5H",
      "include_colab_link": true
    },
    "kernelspec": {
      "name": "python3",
      "display_name": "Python 3"
    },
    "language_info": {
      "name": "python"
    }
  },
  "cells": [
    {
      "cell_type": "markdown",
      "metadata": {
        "id": "view-in-github",
        "colab_type": "text"
      },
      "source": [
        "<a href=\"https://colab.research.google.com/github/nafiz512/Data-Mining/blob/main/Learn_Numpy.ipynb\" target=\"_parent\"><img src=\"https://colab.research.google.com/assets/colab-badge.svg\" alt=\"Open In Colab\"/></a>"
      ]
    },
    {
      "cell_type": "markdown",
      "source": [
        "importing numpy"
      ],
      "metadata": {
        "id": "-DVxIcAoNBix"
      }
    },
    {
      "cell_type": "code",
      "execution_count": 2,
      "metadata": {
        "colab": {
          "base_uri": "https://localhost:8080/"
        },
        "id": "Mv559SyDGuHv",
        "outputId": "c743c616-f335-4e5d-c52d-4ffd38cb14ec"
      },
      "outputs": [
        {
          "output_type": "stream",
          "name": "stdout",
          "text": [
            "2.0.2\n"
          ]
        }
      ],
      "source": [
        "import numpy as np\n",
        "print(np.__version__)"
      ]
    },
    {
      "cell_type": "markdown",
      "source": [
        "Creating numpy array"
      ],
      "metadata": {
        "id": "cd1RKUXQRHgz"
      }
    },
    {
      "cell_type": "code",
      "source": [
        "arr=np.array([1,2,3,4,5,6,7,8])\n",
        "print(type(arr))\n",
        "print(arr)"
      ],
      "metadata": {
        "colab": {
          "base_uri": "https://localhost:8080/"
        },
        "id": "B_4nzU1uRMdd",
        "outputId": "282d3bdf-11e2-4403-f645-54cbe059a356"
      },
      "execution_count": 5,
      "outputs": [
        {
          "output_type": "stream",
          "name": "stdout",
          "text": [
            "<class 'numpy.ndarray'>\n",
            "['1' '2' '3' '4' '5' '6' '7' '8' 'k']\n"
          ]
        }
      ]
    },
    {
      "cell_type": "markdown",
      "source": [
        "Dimensions in array 1D,2D,3D..."
      ],
      "metadata": {
        "id": "pbXh9bvdSUme"
      }
    },
    {
      "cell_type": "code",
      "source": [
        "a=np.array(42) #0D array\n",
        "b=np.array([1,2,3,4,5]) #1D array\n",
        "c=np.array([[1,2,3],[4,5,6]]) #2D array\n",
        "d=np.array([[[1,2,3],[4,5,6]],[[1,2,3],[4,5,6]]]) #3D array\n",
        "\n",
        "print(a)\n",
        "print(a.ndim)\n",
        "print(b)\n",
        "print(b.ndim)\n",
        "print(c)\n",
        "print(c.ndim)\n",
        "print(d)\n",
        "print(d.ndim)"
      ],
      "metadata": {
        "colab": {
          "base_uri": "https://localhost:8080/"
        },
        "id": "El9G6VNvST0d",
        "outputId": "3d72ff35-7e1c-4844-8896-e848e18cb43c"
      },
      "execution_count": 6,
      "outputs": [
        {
          "output_type": "stream",
          "name": "stdout",
          "text": [
            "42\n",
            "0\n",
            "[1 2 3 4 5]\n",
            "1\n",
            "[[1 2 3]\n",
            " [4 5 6]]\n",
            "2\n",
            "[[[1 2 3]\n",
            "  [4 5 6]]\n",
            "\n",
            " [[1 2 3]\n",
            "  [4 5 6]]]\n",
            "3\n"
          ]
        }
      ]
    },
    {
      "cell_type": "markdown",
      "source": [
        "Higher dimensional array"
      ],
      "metadata": {
        "id": "-ktgDFLCThUK"
      }
    },
    {
      "cell_type": "code",
      "source": [
        "arr=np.array([1,2,3,4],ndmin=5)\n",
        "print(arr)\n",
        "print(arr.ndim)"
      ],
      "metadata": {
        "colab": {
          "base_uri": "https://localhost:8080/"
        },
        "id": "TjTuD1iHTtTe",
        "outputId": "bfd1acdf-f755-4150-dd1e-95324a507d27"
      },
      "execution_count": 9,
      "outputs": [
        {
          "output_type": "stream",
          "name": "stdout",
          "text": [
            "[[[[[1 2 3 4]]]]]\n",
            "5\n"
          ]
        }
      ]
    },
    {
      "cell_type": "markdown",
      "source": [
        "Access array element"
      ],
      "metadata": {
        "id": "Ga7ui6ILUR_J"
      }
    },
    {
      "cell_type": "code",
      "source": [
        "arr=np.array([1,2,3,4,5])\n",
        "print(arr[0])\n",
        "print(arr[1]+arr[4])"
      ],
      "metadata": {
        "colab": {
          "base_uri": "https://localhost:8080/"
        },
        "id": "0Yv7t5H2URuA",
        "outputId": "95600359-f9ba-4a69-cac3-438b32063a35"
      },
      "execution_count": 10,
      "outputs": [
        {
          "output_type": "stream",
          "name": "stdout",
          "text": [
            "1\n",
            "7\n"
          ]
        }
      ]
    },
    {
      "cell_type": "code",
      "source": [
        "arr=np.array([[1,2,3],[4,5,6],[7,8,9]])\n",
        "print(arr[0,1])\n",
        "print(arr[0,2]+arr[1,2])"
      ],
      "metadata": {
        "colab": {
          "base_uri": "https://localhost:8080/"
        },
        "id": "_Ch4v6vyUt7N",
        "outputId": "fe89bfc8-c49c-4219-d7d2-f605f5ef58c2"
      },
      "execution_count": 11,
      "outputs": [
        {
          "output_type": "stream",
          "name": "stdout",
          "text": [
            "2\n",
            "9\n"
          ]
        }
      ]
    },
    {
      "cell_type": "markdown",
      "source": [
        "Negative indexing"
      ],
      "metadata": {
        "id": "uFpnW6aLVNoe"
      }
    },
    {
      "cell_type": "code",
      "source": [
        "print(\"value of row 0 and column 3 : \",end='')\n",
        "print(arr[0][-2])"
      ],
      "metadata": {
        "colab": {
          "base_uri": "https://localhost:8080/"
        },
        "id": "kjA5gMRDVRTg",
        "outputId": "1a835405-fe69-4341-dcf8-a3c27b5201ad"
      },
      "execution_count": 14,
      "outputs": [
        {
          "output_type": "stream",
          "name": "stdout",
          "text": [
            "value of row 0 and column 3 : 2\n"
          ]
        }
      ]
    },
    {
      "cell_type": "markdown",
      "source": [
        "Slicing arrays    arr[start:end:steps]"
      ],
      "metadata": {
        "id": "kHdK5YJbV-vm"
      }
    },
    {
      "cell_type": "code",
      "source": [
        "arr=np.array([1,2,3,4,5,6,7])\n",
        "print(arr[0:5])\n",
        "print(arr[4:])\n",
        "print(arr[:4])\n",
        "print(arr[-3:-1])\n",
        "print(arr[1:5:2])\n",
        "print(arr[::2])"
      ],
      "metadata": {
        "colab": {
          "base_uri": "https://localhost:8080/"
        },
        "id": "Nj5Px9ppV6U2",
        "outputId": "d16b493a-98bc-4852-98d6-95ad66a85115"
      },
      "execution_count": 18,
      "outputs": [
        {
          "output_type": "stream",
          "name": "stdout",
          "text": [
            "[1 2 3 4 5]\n",
            "[5 6 7]\n",
            "[1 2 3 4]\n",
            "[5 6]\n",
            "[2 4]\n",
            "[1 3 5 7]\n"
          ]
        }
      ]
    }
  ]
}
{
  "nbformat": 4,
  "nbformat_minor": 0,
  "metadata": {
    "colab": {
      "provenance": [],
      "authorship_tag": "ABX9TyPUwe2WkMqcJYEAAdMA9lTi",
      "include_colab_link": true
    },
    "kernelspec": {
      "name": "python3",
      "display_name": "Python 3"
    },
    "language_info": {
      "name": "python"
    }
  },
  "cells": [
    {
      "cell_type": "markdown",
      "metadata": {
        "id": "view-in-github",
        "colab_type": "text"
      },
      "source": [
        "<a href=\"https://colab.research.google.com/github/nafiz512/Data-Mining/blob/main/Learn_Numpy.ipynb\" target=\"_parent\"><img src=\"https://colab.research.google.com/assets/colab-badge.svg\" alt=\"Open In Colab\"/></a>"
      ]
    },
    {
      "cell_type": "markdown",
      "source": [
        "importing numpy"
      ],
      "metadata": {
        "id": "-DVxIcAoNBix"
      }
    },
    {
      "cell_type": "code",
      "execution_count": 2,
      "metadata": {
        "colab": {
          "base_uri": "https://localhost:8080/"
        },
        "id": "Mv559SyDGuHv",
        "outputId": "193c0be9-662e-45ac-8654-35aea7753097"
      },
      "outputs": [
        {
          "output_type": "stream",
          "name": "stdout",
          "text": [
            "2.0.2\n"
          ]
        }
      ],
      "source": [
        "import numpy as np\n",
        "print(np.__version__)"
      ]
    },
    {
      "cell_type": "markdown",
      "source": [
        "Creating numpy array"
      ],
      "metadata": {
        "id": "cd1RKUXQRHgz"
      }
    },
    {
      "cell_type": "code",
      "source": [
        "arr=np.array([1,2,3,4,5,6,7,8])\n",
        "print(type(arr))\n",
        "print(arr)"
      ],
      "metadata": {
        "colab": {
          "base_uri": "https://localhost:8080/"
        },
        "id": "B_4nzU1uRMdd",
        "outputId": "73fa2a38-a21e-42af-9b68-54e366325c76"
      },
      "execution_count": 3,
      "outputs": [
        {
          "output_type": "stream",
          "name": "stdout",
          "text": [
            "<class 'numpy.ndarray'>\n",
            "[1 2 3 4 5 6 7 8]\n"
          ]
        }
      ]
    },
    {
      "cell_type": "markdown",
      "source": [
        "Dimensions in array 1D,2D,3D..."
      ],
      "metadata": {
        "id": "pbXh9bvdSUme"
      }
    },
    {
      "cell_type": "code",
      "source": [
        "a=np.array(42) #0D array\n",
        "b=np.array([1,2,3,4,5]) #1D array\n",
        "c=np.array([[1,2,3],[4,5,6]]) #2D array\n",
        "d=np.array([[[1,2,3],[4,5,6]],[[1,2,3],[4,5,6]]]) #3D array\n",
        "\n",
        "print(a)\n",
        "print(a.ndim)\n",
        "print(b)\n",
        "print(b.ndim)\n",
        "print(c)\n",
        "print(c.ndim)\n",
        "print(d)\n",
        "print(d.ndim)"
      ],
      "metadata": {
        "colab": {
          "base_uri": "https://localhost:8080/"
        },
        "id": "El9G6VNvST0d",
        "outputId": "4deff71d-6af6-4ebb-f3c4-d7375e5dee8e"
      },
      "execution_count": 4,
      "outputs": [
        {
          "output_type": "stream",
          "name": "stdout",
          "text": [
            "42\n",
            "0\n",
            "[1 2 3 4 5]\n",
            "1\n",
            "[[1 2 3]\n",
            " [4 5 6]]\n",
            "2\n",
            "[[[1 2 3]\n",
            "  [4 5 6]]\n",
            "\n",
            " [[1 2 3]\n",
            "  [4 5 6]]]\n",
            "3\n"
          ]
        }
      ]
    },
    {
      "cell_type": "markdown",
      "source": [
        "Higher dimensional array"
      ],
      "metadata": {
        "id": "-ktgDFLCThUK"
      }
    },
    {
      "cell_type": "code",
      "source": [
        "arr=np.array([1,2,3,4],ndmin=5)\n",
        "print(arr)\n",
        "print(arr.ndim)\n",
        "print(\"shape of arr: \",arr.shape)"
      ],
      "metadata": {
        "colab": {
          "base_uri": "https://localhost:8080/"
        },
        "id": "TjTuD1iHTtTe",
        "outputId": "6376c58b-14b3-4e13-81ef-a181474531df"
      },
      "execution_count": 5,
      "outputs": [
        {
          "output_type": "stream",
          "name": "stdout",
          "text": [
            "[[[[[1 2 3 4]]]]]\n",
            "5\n",
            "shape of arr:  (1, 1, 1, 1, 4)\n"
          ]
        }
      ]
    },
    {
      "cell_type": "markdown",
      "source": [
        "Access array element"
      ],
      "metadata": {
        "id": "Ga7ui6ILUR_J"
      }
    },
    {
      "cell_type": "code",
      "source": [
        "arr=np.array([1,2,3,4,5])\n",
        "print(arr[0])\n",
        "print(arr[1]+arr[4])"
      ],
      "metadata": {
        "colab": {
          "base_uri": "https://localhost:8080/"
        },
        "id": "0Yv7t5H2URuA",
        "outputId": "291c327e-c64b-4c6a-9f45-a72f3cd5ce10"
      },
      "execution_count": 6,
      "outputs": [
        {
          "output_type": "stream",
          "name": "stdout",
          "text": [
            "1\n",
            "7\n"
          ]
        }
      ]
    },
    {
      "cell_type": "code",
      "source": [
        "arr=np.array([[1,2,3],[4,5,6],[7,8,9]])\n",
        "print(arr[0,1])\n",
        "print(arr[0,2]+arr[1,2])"
      ],
      "metadata": {
        "colab": {
          "base_uri": "https://localhost:8080/"
        },
        "id": "_Ch4v6vyUt7N",
        "outputId": "098471cf-5191-469a-c18b-ef6c33ac92d9"
      },
      "execution_count": 7,
      "outputs": [
        {
          "output_type": "stream",
          "name": "stdout",
          "text": [
            "2\n",
            "9\n"
          ]
        }
      ]
    },
    {
      "cell_type": "markdown",
      "source": [
        "Negative indexing"
      ],
      "metadata": {
        "id": "uFpnW6aLVNoe"
      }
    },
    {
      "cell_type": "code",
      "source": [
        "print(\"value of row 0 and column 3 : \",end='')\n",
        "print(arr[0][-2])"
      ],
      "metadata": {
        "colab": {
          "base_uri": "https://localhost:8080/"
        },
        "id": "kjA5gMRDVRTg",
        "outputId": "56bef2e3-a5cc-4237-de18-d5473c81f267"
      },
      "execution_count": 8,
      "outputs": [
        {
          "output_type": "stream",
          "name": "stdout",
          "text": [
            "value of row 0 and column 3 : 2\n"
          ]
        }
      ]
    },
    {
      "cell_type": "markdown",
      "source": [
        "Slicing arrays    arr[start:end:steps]"
      ],
      "metadata": {
        "id": "kHdK5YJbV-vm"
      }
    },
    {
      "cell_type": "code",
      "source": [
        "arr=np.array([1,2,3,4,5,6,7])\n",
        "print(arr[0:5])\n",
        "print(arr[4:])\n",
        "print(arr[:4])\n",
        "print(arr[-3:-1])\n",
        "print(arr[1:5:2])\n",
        "print(arr[::2])"
      ],
      "metadata": {
        "colab": {
          "base_uri": "https://localhost:8080/"
        },
        "id": "Nj5Px9ppV6U2",
        "outputId": "205774a7-3772-4ace-bee5-6f6e0efdf2bf"
      },
      "execution_count": 9,
      "outputs": [
        {
          "output_type": "stream",
          "name": "stdout",
          "text": [
            "[1 2 3 4 5]\n",
            "[5 6 7]\n",
            "[1 2 3 4]\n",
            "[5 6]\n",
            "[2 4]\n",
            "[1 3 5 7]\n"
          ]
        }
      ]
    },
    {
      "cell_type": "markdown",
      "source": [
        "Slicing 2D array"
      ],
      "metadata": {
        "id": "CmYC1oXNYspD"
      }
    },
    {
      "cell_type": "code",
      "source": [
        "arr=np.array([[1,2,3,4,5],[6,7,8,9,10]])\n",
        "print(\"actual array\")\n",
        "print(arr)\n",
        "print(\"2nd row col 2 to 4\")\n",
        "print(arr[1,1:4])\n",
        "print(\"1st row to 2 row with only col 3\")\n",
        "print(arr[0:2,2])\n",
        "print(\"1st row to 2 row with col 1 to 3\")\n",
        "print(arr[0:2,1:4])\n"
      ],
      "metadata": {
        "colab": {
          "base_uri": "https://localhost:8080/"
        },
        "id": "uXj5lOl9YzS4",
        "outputId": "46dd3a6c-024b-4225-d6a9-aa84a3872aaa"
      },
      "execution_count": 10,
      "outputs": [
        {
          "output_type": "stream",
          "name": "stdout",
          "text": [
            "actual array\n",
            "[[ 1  2  3  4  5]\n",
            " [ 6  7  8  9 10]]\n",
            "2nd row col 2 to 4\n",
            "[7 8 9]\n",
            "1st row to 2 row with only col 3\n",
            "[3 8]\n",
            "1st row to 2 row with col 1 to 3\n",
            "[[2 3 4]\n",
            " [7 8 9]]\n"
          ]
        }
      ]
    },
    {
      "cell_type": "markdown",
      "source": [
        "Checking the data type of an array"
      ],
      "metadata": {
        "id": "meYC57g9bI7A"
      }
    },
    {
      "cell_type": "code",
      "source": [
        "arr=np.array([1,2,3,4])\n",
        "print(type(arr))\n",
        "print(arr.dtype)"
      ],
      "metadata": {
        "colab": {
          "base_uri": "https://localhost:8080/"
        },
        "id": "tXiPb9l-bajA",
        "outputId": "31a1bfe9-811e-407f-9126-1af4eea64cc6"
      },
      "execution_count": 11,
      "outputs": [
        {
          "output_type": "stream",
          "name": "stdout",
          "text": [
            "<class 'numpy.ndarray'>\n",
            "int64\n"
          ]
        }
      ]
    },
    {
      "cell_type": "markdown",
      "source": [
        "Converting data type of numpy array"
      ],
      "metadata": {
        "id": "06I4NkhLc6m8"
      }
    },
    {
      "cell_type": "code",
      "source": [
        "arr=np.array([1.3,2.1,3.5])\n",
        "newarr=arr.astype('i')# 'i' for integer\n",
        "print(newarr)\n",
        "print(newarr.dtype)\n",
        "#converting to int64\n",
        "newarr=np.array(newarr,dtype='i8')\n",
        "print(newarr.dtype)"
      ],
      "metadata": {
        "colab": {
          "base_uri": "https://localhost:8080/"
        },
        "id": "2WD-qVzYdE8O",
        "outputId": "dc42e527-105d-4921-b1c8-23324965020a"
      },
      "execution_count": 12,
      "outputs": [
        {
          "output_type": "stream",
          "name": "stdout",
          "text": [
            "[1 2 3]\n",
            "int32\n",
            "int64\n"
          ]
        }
      ]
    },
    {
      "cell_type": "markdown",
      "source": [
        "Shape of array"
      ],
      "metadata": {
        "id": "qB0m_bGbfVLT"
      }
    },
    {
      "cell_type": "code",
      "source": [
        "arr = np.array([[1, 2, 3, 4], [5, 6, 7, 8]])\n",
        "\n",
        "print(arr.shape)"
      ],
      "metadata": {
        "colab": {
          "base_uri": "https://localhost:8080/"
        },
        "id": "ARC2kmBkfZCx",
        "outputId": "9eb59cdd-cf61-4976-924c-d42ac4be9d8d"
      },
      "execution_count": 13,
      "outputs": [
        {
          "output_type": "stream",
          "name": "stdout",
          "text": [
            "(2, 4)\n"
          ]
        }
      ]
    },
    {
      "cell_type": "markdown",
      "source": [
        "NumPy array reshaping"
      ],
      "metadata": {
        "id": "tpbwkG0ugpdX"
      }
    },
    {
      "cell_type": "code",
      "source": [
        "arr=np.array([i for i in range(12)])\n",
        "newarr=np.reshape(arr,(3,4))\n",
        "print(newarr)"
      ],
      "metadata": {
        "colab": {
          "base_uri": "https://localhost:8080/"
        },
        "id": "M8yFLwwwgw0p",
        "outputId": "a34b674d-9ae8-4bed-cf02-ec7fc114dc49"
      },
      "execution_count": 14,
      "outputs": [
        {
          "output_type": "stream",
          "name": "stdout",
          "text": [
            "[[ 0  1  2  3]\n",
            " [ 4  5  6  7]\n",
            " [ 8  9 10 11]]\n"
          ]
        }
      ]
    },
    {
      "cell_type": "code",
      "source": [
        "newarr=arr.reshape(2,3,2)\n",
        "print(newarr)"
      ],
      "metadata": {
        "colab": {
          "base_uri": "https://localhost:8080/"
        },
        "id": "pyH3TyRxjiCC",
        "outputId": "42ea0678-550e-4b80-da6a-d6c9ce9933b7"
      },
      "execution_count": 15,
      "outputs": [
        {
          "output_type": "stream",
          "name": "stdout",
          "text": [
            "[[[ 0  1]\n",
            "  [ 2  3]\n",
            "  [ 4  5]]\n",
            "\n",
            " [[ 6  7]\n",
            "  [ 8  9]\n",
            "  [10 11]]]\n"
          ]
        }
      ]
    },
    {
      "cell_type": "markdown",
      "source": [
        "Resahpe Multi-dimension to 1D"
      ],
      "metadata": {
        "id": "GkD5xEBXkQGR"
      }
    },
    {
      "cell_type": "code",
      "source": [
        "arr=np.array([[[1,2,3],[4,5,6]],[[7,8,9],[10,11,12]]])\n",
        "newarr=arr.reshape(-1)\n",
        "print(newarr)"
      ],
      "metadata": {
        "colab": {
          "base_uri": "https://localhost:8080/"
        },
        "id": "j7CEbuvAkwHN",
        "outputId": "93c31387-6f7b-4578-f134-bf2310b5e452"
      },
      "execution_count": 16,
      "outputs": [
        {
          "output_type": "stream",
          "name": "stdout",
          "text": [
            "[ 1  2  3  4  5  6  7  8  9 10 11 12]\n"
          ]
        }
      ]
    },
    {
      "cell_type": "markdown",
      "source": [
        "numpy.arange() in Python\n",
        "The arange([start,] stop[, step,][, dtype]) : Returns an array with evenly spaced elements as per the interval. The interval mentioned is half-opened i.e. [Start, Stop)"
      ],
      "metadata": {
        "id": "fO4UTiaKkwlr"
      }
    },
    {
      "cell_type": "code",
      "source": [
        "print(np.arange(4).reshape(2,2),'\\n')\n",
        "print(np.arange(4,10),'\\n')\n",
        "print(np.arange(4,20,2))"
      ],
      "metadata": {
        "colab": {
          "base_uri": "https://localhost:8080/"
        },
        "id": "m_zEiPEFlUba",
        "outputId": "efd844ae-cd4f-411f-ba70-ea5139fec1f7"
      },
      "execution_count": 17,
      "outputs": [
        {
          "output_type": "stream",
          "name": "stdout",
          "text": [
            "[[0 1]\n",
            " [2 3]] \n",
            "\n",
            "[4 5 6 7 8 9] \n",
            "\n",
            "[ 4  6  8 10 12 14 16 18]\n"
          ]
        }
      ]
    },
    {
      "cell_type": "code",
      "source": [
        "# aranging numbers from 1 to 2 in steps 0.1\n",
        "print(np.arange(1,2,0.1))"
      ],
      "metadata": {
        "colab": {
          "base_uri": "https://localhost:8080/"
        },
        "id": "o3jIZ1pDX2yp",
        "outputId": "39ab9f57-d8a6-4411-844f-9edce9e50bae"
      },
      "execution_count": 18,
      "outputs": [
        {
          "output_type": "stream",
          "name": "stdout",
          "text": [
            "[1.  1.1 1.2 1.3 1.4 1.5 1.6 1.7 1.8 1.9]\n"
          ]
        }
      ]
    },
    {
      "cell_type": "markdown",
      "source": [
        "Numpy array iterating"
      ],
      "metadata": {
        "id": "YCt2R51-YXcg"
      }
    },
    {
      "cell_type": "code",
      "source": [
        "arr=np.array([[i for i in range(3)],[i for i in range (3,6)]])\n",
        "for x in arr:\n",
        "    print(x)\n",
        "print('another way:')\n",
        "for x in arr:\n",
        "    for y in x:\n",
        "        print(y,end=' ')\n",
        "    print('')"
      ],
      "metadata": {
        "colab": {
          "base_uri": "https://localhost:8080/"
        },
        "id": "RmL8JqouYhxt",
        "outputId": "ed2595ee-807e-431c-8b5e-c350a8dd5787"
      },
      "execution_count": 24,
      "outputs": [
        {
          "output_type": "stream",
          "name": "stdout",
          "text": [
            "[0 1 2]\n",
            "[3 4 5]\n",
            "another way:\n",
            "0 1 2 \n",
            "3 4 5 \n"
          ]
        }
      ]
    },
    {
      "cell_type": "markdown",
      "source": [
        "Numpy array copy vs view"
      ],
      "metadata": {
        "id": "mMDTaPOwaOUv"
      }
    },
    {
      "cell_type": "code",
      "source": [
        "arr=np.array([i for i in range(10)])\n",
        "x=arr.copy()\n",
        "y=arr.view()\n",
        "\n",
        "arr[0]=100\n",
        "\n",
        "print(arr)\n",
        "\n",
        "print('copy of arr')\n",
        "print(x)\n",
        "\n",
        "print('view of arr')\n",
        "print(y)"
      ],
      "metadata": {
        "colab": {
          "base_uri": "https://localhost:8080/"
        },
        "id": "e0_St5-JaVMt",
        "outputId": "0e96a949-8a2c-4f82-b3ef-43c99307a658"
      },
      "execution_count": 34,
      "outputs": [
        {
          "output_type": "stream",
          "name": "stdout",
          "text": [
            "[100   1   2   3   4   5   6   7   8   9]\n",
            "copy of arr\n",
            "[0 1 2 3 4 5 6 7 8 9]\n",
            "view of arr\n",
            "[100   1   2   3   4   5   6   7   8   9]\n"
          ]
        }
      ]
    },
    {
      "cell_type": "code",
      "source": [
        "#Every NumPy array has the attribute base that returns None if the array owns the data.\n",
        "#Otherwise, the base  attribute refers to the original object.\n",
        "print(x.base)\n",
        "print(y.base)"
      ],
      "metadata": {
        "colab": {
          "base_uri": "https://localhost:8080/"
        },
        "id": "oLPW4nQtejqj",
        "outputId": "f49e2c3a-3f22-4a03-9000-891cc5508b45"
      },
      "execution_count": 33,
      "outputs": [
        {
          "output_type": "stream",
          "name": "stdout",
          "text": [
            "None\n",
            "[100   1   2   3   4   5   6   7   8   9]\n"
          ]
        }
      ]
    },
    {
      "cell_type": "markdown",
      "source": [
        "Joining NumPy Array\n",
        "1D array"
      ],
      "metadata": {
        "id": "UHLWZQBseylM"
      }
    },
    {
      "cell_type": "code",
      "source": [
        "arr1=np.array([i for i in range(10,20)])\n",
        "arr2=np.array([i for i in range (20,30)])\n",
        "\n",
        "arr=np.concatenate((arr1,arr2))\n",
        "print(arr)"
      ],
      "metadata": {
        "colab": {
          "base_uri": "https://localhost:8080/"
        },
        "id": "9jsZ6_kjezwy",
        "outputId": "e91e9eca-efc6-4da4-d7a6-33e4a241fa88"
      },
      "execution_count": 35,
      "outputs": [
        {
          "output_type": "stream",
          "name": "stdout",
          "text": [
            "[10 11 12 13 14 15 16 17 18 19 20 21 22 23 24 25 26 27 28 29]\n"
          ]
        }
      ]
    },
    {
      "cell_type": "markdown",
      "source": [
        "join 2D array along with the column(axis=0)"
      ],
      "metadata": {
        "id": "1b7G3GWBgXmn"
      }
    },
    {
      "cell_type": "code",
      "source": [
        "arr1 = np.array([[1, 2], [3, 4]])\n",
        "arr2 = np.array([[5, 6], [7, 8]])\n",
        "\n",
        "arr=np.concatenate((arr1,arr2),axis=0)\n",
        "print(arr)\n",
        "print(arr.shape)"
      ],
      "metadata": {
        "colab": {
          "base_uri": "https://localhost:8080/"
        },
        "id": "1cbK7LaYgxY1",
        "outputId": "97bb51f9-bea8-4861-9490-277b45ff374d"
      },
      "execution_count": 36,
      "outputs": [
        {
          "output_type": "stream",
          "name": "stdout",
          "text": [
            "[[1 2]\n",
            " [3 4]\n",
            " [5 6]\n",
            " [7 8]]\n",
            "(4, 2)\n"
          ]
        }
      ]
    },
    {
      "cell_type": "markdown",
      "source": [
        "join 2D array along with the row (axis=1)"
      ],
      "metadata": {
        "id": "FZcjQhCChbDo"
      }
    },
    {
      "cell_type": "code",
      "source": [
        "arr1 = np.array([[1, 2], [3, 4]])\n",
        "arr2 = np.array([[5, 6], [7, 8]])\n",
        "\n",
        "arr=np.concatenate((arr1,arr2),axis=1)\n",
        "print(arr)\n",
        "print(arr.shape)"
      ],
      "metadata": {
        "colab": {
          "base_uri": "https://localhost:8080/"
        },
        "id": "PpVTVmKwhlAR",
        "outputId": "2e5c5d2c-fb4e-4868-85ef-983c401a163c"
      },
      "execution_count": 37,
      "outputs": [
        {
          "output_type": "stream",
          "name": "stdout",
          "text": [
            "[[1 2 5 6]\n",
            " [3 4 7 8]]\n",
            "(2, 4)\n"
          ]
        }
      ]
    },
    {
      "cell_type": "markdown",
      "source": [
        "Joining Arrays Using Stack Functions"
      ],
      "metadata": {
        "id": "Do0VYFXHhv0x"
      }
    },
    {
      "cell_type": "code",
      "source": [
        "arr1 = np.array([1, 2, 3])\n",
        "arr2 = np.array([4, 5, 6])\n",
        "\n",
        "#NumPy provides a helper function: hstack() to stack along rows.\n",
        "arr = np.hstack((arr1, arr2))\n",
        "print('using hstack() along rows')\n",
        "print(arr)\n",
        "#NumPy provides a helper function: vstack()  to stack along columns.\n",
        "arr = np.vstack((arr1, arr2))\n",
        "print('using vstack() along colmns')\n",
        "print(arr)\n",
        "#NumPy provides a helper function: dstack() to stack along height, which is the same as depth.\n",
        "arr = np.dstack((arr1, arr2))\n",
        "print('using dstack() along height')\n",
        "print(arr)"
      ],
      "metadata": {
        "colab": {
          "base_uri": "https://localhost:8080/"
        },
        "id": "7bGrFUfvhzdO",
        "outputId": "bcb31362-37d9-4f17-e6ed-9df1e070de37"
      },
      "execution_count": 41,
      "outputs": [
        {
          "output_type": "stream",
          "name": "stdout",
          "text": [
            "using hstack() along rows\n",
            "[1 2 3 4 5 6]\n",
            "using vstack() along colmns\n",
            "[[1 2 3]\n",
            " [4 5 6]]\n",
            "using dstack() along height\n",
            "[[[1 4]\n",
            "  [2 5]\n",
            "  [3 6]]]\n"
          ]
        }
      ]
    },
    {
      "cell_type": "markdown",
      "source": [
        "<h1>Splitting NumPy Arrays"
      ],
      "metadata": {
        "id": "DymfE6aYjCxO"
      }
    },
    {
      "cell_type": "code",
      "source": [
        "arr=np.array([i+1 for i in range(9)])\n",
        "\n",
        "newarr=np.array_split(arr,4)# devide into 4 arrays\n",
        "print(newarr)\n",
        "for x in newarr:\n",
        "    print(x)"
      ],
      "metadata": {
        "colab": {
          "base_uri": "https://localhost:8080/"
        },
        "id": "7LErFWZwjkPS",
        "outputId": "53bf76bc-9031-41d7-910c-745a2bdc7a58"
      },
      "execution_count": 44,
      "outputs": [
        {
          "output_type": "stream",
          "name": "stdout",
          "text": [
            "[array([1, 2, 3]), array([4, 5]), array([6, 7]), array([8, 9])]\n",
            "[1 2 3]\n",
            "[4 5]\n",
            "[6 7]\n",
            "[8 9]\n"
          ]
        }
      ]
    },
    {
      "cell_type": "markdown",
      "source": [
        "<h1>Searching Arrays\n",
        "<h3>To search an element from an array, use the where() method.\n",
        " to find the indices of all occurrences of that number."
      ],
      "metadata": {
        "id": "rG6w-vlmlzPV"
      }
    },
    {
      "cell_type": "code",
      "source": [
        "arr = np.array([1, 2, 3, 4, 5, 4, 4])\n",
        "\n",
        "x = np.where(arr == 4)\n",
        "\n",
        "print(x)"
      ],
      "metadata": {
        "colab": {
          "base_uri": "https://localhost:8080/"
        },
        "id": "FMhQrl7rl-Xf",
        "outputId": "e54827e4-68f4-4e61-e164-af0f5b2a0c1b"
      },
      "execution_count": 45,
      "outputs": [
        {
          "output_type": "stream",
          "name": "stdout",
          "text": [
            "(array([3, 5, 6]),)\n"
          ]
        }
      ]
    },
    {
      "cell_type": "markdown",
      "source": [
        "<H1> NumPy Sorting Arrays"
      ],
      "metadata": {
        "id": "9Xj_ncpXnYUd"
      }
    },
    {
      "cell_type": "code",
      "source": [
        "arr=np.array([8,-1,10,3,80,71])\n",
        "print(np.sort(arr))"
      ],
      "metadata": {
        "colab": {
          "base_uri": "https://localhost:8080/"
        },
        "id": "SQ4zpY5rndU0",
        "outputId": "2d7fdcd9-4a6e-4d08-da78-b407af95dc42"
      },
      "execution_count": 46,
      "outputs": [
        {
          "output_type": "stream",
          "name": "stdout",
          "text": [
            "[-1  3  8 10 71 80]\n"
          ]
        }
      ]
    },
    {
      "cell_type": "code",
      "source": [
        "arr = np.array([[3, 2, 4], [5, 0, 1]])\n",
        "\n",
        "print(np.sort(arr))"
      ],
      "metadata": {
        "colab": {
          "base_uri": "https://localhost:8080/"
        },
        "id": "ZEhGQCmsn3ic",
        "outputId": "d8e4f83a-8960-44d5-c115-42119f8ef9d5"
      },
      "execution_count": 47,
      "outputs": [
        {
          "output_type": "stream",
          "name": "stdout",
          "text": [
            "[[2 3 4]\n",
            " [0 1 5]]\n"
          ]
        }
      ]
    },
    {
      "cell_type": "markdown",
      "source": [
        "<h1>Filter"
      ],
      "metadata": {
        "id": "4AEy6P-FoNAX"
      }
    },
    {
      "cell_type": "code",
      "source": [
        "arr = np.array([41, 42, 43, 44])\n",
        "\n",
        "x = [True, False, True, False]\n",
        "\n",
        "newarr = arr[x]\n",
        "\n",
        "print(newarr)"
      ],
      "metadata": {
        "colab": {
          "base_uri": "https://localhost:8080/"
        },
        "id": "Rs0LA3O-oSWN",
        "outputId": "0918572c-22aa-4210-e47e-37d7785f851d"
      },
      "execution_count": 48,
      "outputs": [
        {
          "output_type": "stream",
          "name": "stdout",
          "text": [
            "[41 43]\n"
          ]
        }
      ]
    },
    {
      "cell_type": "code",
      "source": [
        "arr = np.array([41, 42, 43, 44])\n",
        "\n",
        "# Create an empty list\n",
        "filter_arr = []\n",
        "\n",
        "# go through each element in arr\n",
        "for element in arr:\n",
        "  # if the element is higher than 42, set the value to True, otherwise False:\n",
        "  if element > 42:\n",
        "    filter_arr.append(True)\n",
        "  else:\n",
        "    filter_arr.append(False)\n",
        "\n",
        "newarr = arr[filter_arr]\n",
        "\n",
        "print(filter_arr)\n",
        "print(newarr)"
      ],
      "metadata": {
        "colab": {
          "base_uri": "https://localhost:8080/"
        },
        "id": "HVtb9GD8oXRP",
        "outputId": "bf64965b-ae7f-4b7d-eac0-21ad1aed2a12"
      },
      "execution_count": 49,
      "outputs": [
        {
          "output_type": "stream",
          "name": "stdout",
          "text": [
            "[False, False, True, True]\n",
            "[43 44]\n"
          ]
        }
      ]
    }
  ]
}
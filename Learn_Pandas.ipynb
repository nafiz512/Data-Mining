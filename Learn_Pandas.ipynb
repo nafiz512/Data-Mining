{
  "nbformat": 4,
  "nbformat_minor": 0,
  "metadata": {
    "colab": {
      "provenance": [],
      "authorship_tag": "ABX9TyPEuYtFB4ZeQYeHffemSTwB",
      "include_colab_link": true
    },
    "kernelspec": {
      "name": "python3",
      "display_name": "Python 3"
    },
    "language_info": {
      "name": "python"
    }
  },
  "cells": [
    {
      "cell_type": "markdown",
      "metadata": {
        "id": "view-in-github",
        "colab_type": "text"
      },
      "source": [
        "<a href=\"https://colab.research.google.com/github/nafiz512/Data-Mining/blob/main/Learn_Pandas.ipynb\" target=\"_parent\"><img src=\"https://colab.research.google.com/assets/colab-badge.svg\" alt=\"Open In Colab\"/></a>"
      ]
    },
    {
      "cell_type": "markdown",
      "source": [
        "<h1>Pandas Tutorial\n",
        "<h3>Pandas is a Python library used to analyze data."
      ],
      "metadata": {
        "id": "K80T8dqLrBd-"
      }
    },
    {
      "cell_type": "markdown",
      "source": [
        "Importing pandas"
      ],
      "metadata": {
        "id": "bd42BteirPNt"
      }
    },
    {
      "cell_type": "code",
      "execution_count": 3,
      "metadata": {
        "colab": {
          "base_uri": "https://localhost:8080/"
        },
        "id": "8fMyYNzNqs4t",
        "outputId": "dfe5ab70-9fde-43d3-e67f-cbfb09a0d547"
      },
      "outputs": [
        {
          "output_type": "stream",
          "name": "stdout",
          "text": [
            "2.2.2\n"
          ]
        }
      ],
      "source": [
        "import pandas as pd\n",
        "print(pd.__version__)"
      ]
    },
    {
      "cell_type": "markdown",
      "source": [
        "<h3>Pandas is a Python library used for working with data sets.<br>It has functions for analyzing, cleaning, exploring, and manipulating data."
      ],
      "metadata": {
        "id": "iV-1IZVXrAWH"
      }
    },
    {
      "cell_type": "markdown",
      "source": [
        "Create a pandas Series"
      ],
      "metadata": {
        "id": "OzV5ixSTsIzD"
      }
    },
    {
      "cell_type": "code",
      "source": [
        "data=[\"BMW\",\"Mercedes\",\"Audi\"]\n",
        "s=pd.Series(data)\n",
        "print(s)"
      ],
      "metadata": {
        "colab": {
          "base_uri": "https://localhost:8080/"
        },
        "id": "ihHh5060sIOo",
        "outputId": "fde3f255-7f73-4ec9-8cba-a8ca3b86f250"
      },
      "execution_count": 4,
      "outputs": [
        {
          "output_type": "stream",
          "name": "stdout",
          "text": [
            "0         BMW\n",
            "1    Mercedes\n",
            "2        Audi\n",
            "dtype: object\n"
          ]
        }
      ]
    },
    {
      "cell_type": "markdown",
      "source": [
        "<h2>Create a pandas DataFrame"
      ],
      "metadata": {
        "id": "syBI7g7AtEK1"
      }
    },
    {
      "cell_type": "code",
      "source": [
        "dataset={\n",
        "    'cars':[\"BMW\",\"Mercedes\",\"Audi\"],\n",
        "    'passing':[3,7,2]\n",
        "}\n",
        "df=pd.DataFrame(dataset)\n",
        "print(df)"
      ],
      "metadata": {
        "colab": {
          "base_uri": "https://localhost:8080/"
        },
        "id": "JD_hUB01smVD",
        "outputId": "bd6431f8-3aeb-4369-cbf4-3f45ab45936d"
      },
      "execution_count": 5,
      "outputs": [
        {
          "output_type": "stream",
          "name": "stdout",
          "text": [
            "       cars  passing\n",
            "0       BMW        3\n",
            "1  Mercedes        7\n",
            "2      Audi        2\n"
          ]
        }
      ]
    },
    {
      "cell_type": "markdown",
      "source": [
        "<h1>Panda's Series<br>\n",
        "<h3>A Pandas Series is like a column in a table.<br>It is a one-dimensional array holding data of any type"
      ],
      "metadata": {
        "id": "St5q-WAUuC8c"
      }
    },
    {
      "cell_type": "code",
      "source": [
        "a = (10, 70, 20)\n",
        "\n",
        "myvar = pd.Series(a)\n",
        "\n",
        "print(myvar)\n",
        "print(myvar[1])"
      ],
      "metadata": {
        "colab": {
          "base_uri": "https://localhost:8080/"
        },
        "id": "VYZslKR_uR2n",
        "outputId": "c7b088c8-b793-4ad7-850d-2c02f8ea12c2"
      },
      "execution_count": 6,
      "outputs": [
        {
          "output_type": "stream",
          "name": "stdout",
          "text": [
            "0    10\n",
            "1    70\n",
            "2    20\n",
            "dtype: int64\n",
            "70\n"
          ]
        }
      ]
    },
    {
      "cell_type": "markdown",
      "source": [
        "<h3>Create Labels"
      ],
      "metadata": {
        "id": "p1NRNeiEuc9l"
      }
    },
    {
      "cell_type": "code",
      "source": [
        "# With the index argument, you can name your own labels.\n",
        "a=[i*10 for i in range(1,5)]\n",
        "myvar=pd.Series(a,index=[\"a1\",\"a2\",\"a3\",\"a4\"])\n",
        "print(myvar)\n",
        "print(myvar['a3'])"
      ],
      "metadata": {
        "colab": {
          "base_uri": "https://localhost:8080/"
        },
        "id": "txitSRH8ugS5",
        "outputId": "0291c0cf-78eb-45be-eacf-73ecffe31f99"
      },
      "execution_count": 7,
      "outputs": [
        {
          "output_type": "stream",
          "name": "stdout",
          "text": [
            "a1    10\n",
            "a2    20\n",
            "a3    30\n",
            "a4    40\n",
            "dtype: int64\n",
            "30\n"
          ]
        }
      ]
    },
    {
      "cell_type": "markdown",
      "source": [
        "<h3>You can also use a key/value object, like a dictionary, when creating a Series."
      ],
      "metadata": {
        "id": "uPm7l9BlwcqV"
      }
    },
    {
      "cell_type": "code",
      "source": [
        "calories={\"day1\":[420,500],\"day2\":[300,450],\"day3\":380}\n",
        "s=pd.Series(calories)\n",
        "print(s)\n",
        "df=pd.DataFrame(calories)\n",
        "print(df)"
      ],
      "metadata": {
        "colab": {
          "base_uri": "https://localhost:8080/"
        },
        "id": "0By6Ymq2wkPI",
        "outputId": "e681c35a-b91d-455e-a57b-1cc30ac1fe3d"
      },
      "execution_count": 8,
      "outputs": [
        {
          "output_type": "stream",
          "name": "stdout",
          "text": [
            "day1    [420, 500]\n",
            "day2    [300, 450]\n",
            "day3           380\n",
            "dtype: object\n",
            "   day1  day2  day3\n",
            "0   420   300   380\n",
            "1   500   450   380\n"
          ]
        }
      ]
    },
    {
      "cell_type": "code",
      "source": [
        "#Creating series using data from \"day1\" and \"day3\"\n",
        "myvar=pd.Series(calories,index=[\"day1\",\"day3\"])\n",
        "print(myvar)"
      ],
      "metadata": {
        "colab": {
          "base_uri": "https://localhost:8080/"
        },
        "id": "-k0KX3TYwgfh",
        "outputId": "509e240d-cc69-4cf7-8576-091f96153f31"
      },
      "execution_count": 9,
      "outputs": [
        {
          "output_type": "stream",
          "name": "stdout",
          "text": [
            "day1    [420, 500]\n",
            "day3           380\n",
            "dtype: object\n"
          ]
        }
      ]
    },
    {
      "cell_type": "markdown",
      "source": [
        "<h1>Panda's dataFrame<br>\n",
        "<h3>Data sets in Pandas are usually multi-dimensional tables, called DataFrames.\n",
        "<br>A Pandas DataFrame is a 2 dimensional data structure, like a 2 dimensional array, or a table with rows and columns.Series is like a column, a DataFrame is the whole table."
      ],
      "metadata": {
        "id": "-EyLrbHwyv1k"
      }
    },
    {
      "cell_type": "code",
      "source": [
        "# Create a DataFrame from two Series:\n",
        "data={\"calories\":[420,380,390],\"duration\":[50,40,45],\n",
        "      \"duration\":[50,40,45]}\n",
        "\n",
        "df=pd.DataFrame(data)\n",
        "print(df)"
      ],
      "metadata": {
        "colab": {
          "base_uri": "https://localhost:8080/"
        },
        "id": "e1MpsbodzDYw",
        "outputId": "dd889daa-e327-431c-94bf-0e3fd4df75c1"
      },
      "execution_count": 10,
      "outputs": [
        {
          "output_type": "stream",
          "name": "stdout",
          "text": [
            "   calories  duration\n",
            "0       420        50\n",
            "1       380        40\n",
            "2       390        45\n"
          ]
        }
      ]
    },
    {
      "cell_type": "markdown",
      "source": [
        "<h3>Locate Row : Pandas use the loc attribute to return one or more specified row(s)"
      ],
      "metadata": {
        "id": "6rFOEs3o255_"
      }
    },
    {
      "cell_type": "code",
      "source": [
        "# refer to the row index:\n",
        "print(df.loc[0])"
      ],
      "metadata": {
        "colab": {
          "base_uri": "https://localhost:8080/"
        },
        "id": "BdgPsEvrzPXy",
        "outputId": "a79c18b4-20b5-4fb9-e8d3-3f0a60555508"
      },
      "execution_count": 11,
      "outputs": [
        {
          "output_type": "stream",
          "name": "stdout",
          "text": [
            "calories    420\n",
            "duration     50\n",
            "Name: 0, dtype: int64\n"
          ]
        }
      ]
    },
    {
      "cell_type": "code",
      "source": [
        "print(df.loc[0:2])#include last index 2\n",
        "print(df.iloc[0:2])# exclude last index2"
      ],
      "metadata": {
        "colab": {
          "base_uri": "https://localhost:8080/"
        },
        "id": "D1Nz-Qvc3aFp",
        "outputId": "08005ab5-5d3a-4888-951f-47cca6c1ab43"
      },
      "execution_count": 12,
      "outputs": [
        {
          "output_type": "stream",
          "name": "stdout",
          "text": [
            "   calories  duration\n",
            "0       420        50\n",
            "1       380        40\n",
            "2       390        45\n",
            "   calories  duration\n",
            "0       420        50\n",
            "1       380        40\n"
          ]
        }
      ]
    },
    {
      "cell_type": "markdown",
      "source": [
        "<h2>Locate Column"
      ],
      "metadata": {
        "id": "Y-_OmzFwfz7F"
      }
    },
    {
      "cell_type": "code",
      "source": [
        "print(df[\"calories\"])\n",
        "print(df[\"duration\"])\n",
        "print(df.loc[2,'calories'])"
      ],
      "metadata": {
        "colab": {
          "base_uri": "https://localhost:8080/"
        },
        "id": "qg-k3GLe6wVk",
        "outputId": "7785a054-911e-49da-8385-d44b15c975b3"
      },
      "execution_count": 16,
      "outputs": [
        {
          "output_type": "stream",
          "name": "stdout",
          "text": [
            "0    420\n",
            "1    380\n",
            "2    390\n",
            "Name: calories, dtype: int64\n",
            "0    50\n",
            "1    40\n",
            "2    45\n",
            "Name: duration, dtype: int64\n",
            "390\n"
          ]
        }
      ]
    },
    {
      "cell_type": "markdown",
      "source": [
        "<h2>Named Indexes :\n",
        "<h3>With the index argument, you can name your own indexes."
      ],
      "metadata": {
        "id": "PXEW-ZY8h8g4"
      }
    },
    {
      "cell_type": "code",
      "source": [
        "data = {\n",
        "  \"calories\": [420, 380, 390],\n",
        "  \"duration\": [50, 40, 45]\n",
        "}\n",
        "df=pd.DataFrame(data,index=['day1','day2','day3'])\n",
        "print(df)"
      ],
      "metadata": {
        "colab": {
          "base_uri": "https://localhost:8080/"
        },
        "id": "-kTUjCOYgc1f",
        "outputId": "5dd26def-340f-41cb-dab0-73acdc459dd5"
      },
      "execution_count": 17,
      "outputs": [
        {
          "output_type": "stream",
          "name": "stdout",
          "text": [
            "      calories  duration\n",
            "day1       420        50\n",
            "day2       380        40\n",
            "day3       390        45\n"
          ]
        }
      ]
    }
  ]
}